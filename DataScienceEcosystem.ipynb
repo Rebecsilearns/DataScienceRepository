{
 "cells": [
  {
   "cell_type": "markdown",
   "id": "afff6fa5-af66-44a4-9a44-93ffe0f64bf8",
   "metadata": {},
   "source": [
    "Data Science Tools and Ecosystem"
   ]
  },
  {
   "cell_type": "markdown",
   "id": "89ae0cc3-4bf6-4b63-8654-45ad6a24eaae",
   "metadata": {},
   "source": [
    "# In this notebook, Data science Tools and Ecosystem are summarized. "
   ]
  },
  {
   "cell_type": "markdown",
   "id": "0a6519d5-11fc-44b6-9380-dbc63d00585f",
   "metadata": {},
   "source": [
    "Some of the popular languages that data scientists use are:\n",
    "1. Python\n",
    "2. R\n",
    "3. Java\n",
    "4. SQL"
   ]
  },
  {
   "cell_type": "markdown",
   "id": "4d56e323-3010-486a-9e13-cb3c69d17eba",
   "metadata": {},
   "source": [
    "Some of the commonly used libraries used by data scientists include: \n",
    "1. MatPlotLib\n",
    "2. Seaborn\n",
    "3. Plotly\n",
    "4. Scikit-learn"
   ]
  },
  {
   "cell_type": "markdown",
   "id": "ab390420-e514-4d70-862b-d8aa6e559774",
   "metadata": {},
   "source": [
    "# H1: Data science tools\n",
    "|Data science tools|\n",
    "|:----------------:|\n",
    "|Pandas|\n",
    "|Hadoop|\n",
    "|ApacheSpark|"
   ]
  },
  {
   "cell_type": "markdown",
   "id": "5064cf3b-c1ad-40a8-8790-0f6cd13ca247",
   "metadata": {},
   "source": [
    "### : Below are a few examples of evaluating arithmetic expressions in python \n"
   ]
  },
  {
   "cell_type": "code",
   "execution_count": 6,
   "id": "1e69cf24-fb6e-46cf-8721-10d2fd9d9fe2",
   "metadata": {},
   "outputs": [
    {
     "data": {
      "text/plain": [
       "17"
      ]
     },
     "execution_count": 6,
     "metadata": {},
     "output_type": "execute_result"
    }
   ],
   "source": [
    "#This is a simple arithmec expression to multiply then add integers\n",
    "(3*4)+5"
   ]
  },
  {
   "cell_type": "code",
   "execution_count": 8,
   "id": "6ccd3ddc-209f-4e91-a95a-bdcb8b13fdb2",
   "metadata": {},
   "outputs": [
    {
     "data": {
      "text/plain": [
       "3.3333333333333335"
      ]
     },
     "execution_count": 8,
     "metadata": {},
     "output_type": "execute_result"
    }
   ],
   "source": [
    "#This will convert 200 minutes to hours by dividing by 60\n",
    "200/60"
   ]
  },
  {
   "cell_type": "markdown",
   "id": "b04dc295-9cd7-4bca-a745-c281dcd5a5b5",
   "metadata": {},
   "source": [
    "**Objectives:**\n",
    "- Listing popular languages in data science\n",
    "- Using markdown and code cells respectively\n",
    "- Using the markdown cells productively\n",
    "- Listing popular libraries used in data science\n"
   ]
  },
  {
   "cell_type": "markdown",
   "id": "5b0140a0-e4d4-49e7-aa8c-0e784dff97a0",
   "metadata": {},
   "source": [
    "## Author: \n",
    "Rebecca Temple\n"
   ]
  },
  {
   "cell_type": "code",
   "execution_count": null,
   "id": "0d3e744f-e973-4bfc-b764-e42599d4aedb",
   "metadata": {},
   "outputs": [],
   "source": []
  }
 ],
 "metadata": {
  "kernelspec": {
   "display_name": "anaconda-panel-2023.05-py310",
   "language": "python",
   "name": "conda-env-anaconda-panel-2023.05-py310-py"
  },
  "language_info": {
   "codemirror_mode": {
    "name": "ipython",
    "version": 3
   },
   "file_extension": ".py",
   "mimetype": "text/x-python",
   "name": "python",
   "nbconvert_exporter": "python",
   "pygments_lexer": "ipython3",
   "version": "3.11.5"
  }
 },
 "nbformat": 4,
 "nbformat_minor": 5
}
